{
 "cells": [
  {
   "cell_type": "markdown",
   "id": "36868a0b",
   "metadata": {},
   "source": []
  },
  {
   "cell_type": "code",
   "execution_count": 24,
   "id": "35ac4430",
   "metadata": {},
   "outputs": [
    {
     "name": "stdout",
     "output_type": "stream",
     "text": [
      "[2차방정식의 실수 해 계산 프로그램]\n",
      "=====================================\n",
      "x에 대한 2차방정식 ax^2+bx+c = 0에서\n",
      "상수 a, b, c 값을 차례로 입력하세요: 1,2,1\n",
      "입력한 2차 방정식: 1x^2 + 2x + 1\n",
      "---------------------------------------------------------\n",
      "1개의 실수 해가 존재합니다: x = -1.000000\n",
      "=====================================\n"
     ]
    }
   ],
   "source": [
    "print(\"\"\"[2차방정식의 실수 해 계산 프로그램]\n",
    "=====================================\"\"\")\n",
    "\n",
    "print(\"x에 대한 2차방정식 ax^2+bx+c = 0에서\")\n",
    "\n",
    "a,b,c=map(int,input(\"상수 a, b, c 값을 차례로 입력하세요: \").split(',')) #2차 방정식에 들어갈 a,b,c 값 입력\n",
    "\n",
    "\n",
    "if (b > 0):#b가 0보다 클 때 방정식 모양\n",
    "    if(c > 0):\n",
    "        print(\"입력한 2차 방정식: {0}x^2 + {1}x + {2}\".format(a,b,c))#b가 0보다 크고 c가 0보다 클 때 방정식 모양\n",
    "    elif (c == 0):\n",
    "        print(\"입력한 2차 방정식: {0}x^2 + {1}x\".format(a,b))#b가 0보다 크고 c가 0일 때 방정식 모양\n",
    "    else:\n",
    "        print(\"입력한 2차 방정식: {0}x^2 + {1}x + ({2})\".format(a,b,c))#b가 0보다 크고 c가 0보다 작을 때 방정식 모양\n",
    "\n",
    "if (b < 0):#b가 0보다 작을 때 방정식 모양\n",
    "    if(c > 0):\n",
    "        print(\"입력한 2차 방정식: {0}x^2 + ({1})x + {2}\".format(a,b,c))#b가 0보다 작고 c가 0보다 클 때 식 모양\n",
    "    elif (c == 0):\n",
    "        print(\"입력한 2차 방정식: {0}x^2 + ({1})x\".format(a,b))#b가 0보다 작고 c가 0일 때 식 모양\n",
    "    else:\n",
    "        print(\"입력한 2차 방정식: {0}x^2 + ({1})x + ({2})\".format(a,b,c))#b가 0보다 작고 c가 0보다 작을 때 식 모양\n",
    "    \n",
    "if (b == 0):#b가 0일때 방정식 모양\n",
    "    if(c > 0):\n",
    "        print(\"입력한 2차 방정식: {0}x^2 + {2}\".format(a,c))#b가 0이고 c가 0보다 클 때 식 모양\n",
    "    elif (c == 0):\n",
    "        print(\"입력한 2차 방정식: {0}x^2\".format(a))#b가 0이고 c가 0일 때 식 모양\n",
    "    else:\n",
    "        print(\"입력한 2차 방정식: {0}x^2 + ({2})\".format(a,b,c))#b가 0이고 c가 0보다 작을 때 식 모양\n",
    "\n",
    "print(\"---------------------------------------------------------\")\n",
    "\n",
    "D = b**2-4*a*c#판별식으로 근 개수 구하기\n",
    "\n",
    "root1=(-b+(b**2-4*a*c)**(1/2))/2#첫 번째 근 구하기\n",
    "root2=(-b-(b**2-4*a*c)**(1/2))/2#두 번째 근 구하기\n",
    "\n",
    "if (D>0):#근의 개수와 근 출력, 소수점 6번째 자리 까지 \n",
    "    print(\"2개의 실수 해가 존재합니다: x = {0:.6f}, x = {1:.6f}\".format(root1,root2))#판별식이 0보다 클 때 근 2개\n",
    "\n",
    "elif (D == 0):\n",
    "    print(\"1개의 실수 해가 존재합니다: x = {0:.6f}\".format(root1))#판별식이 0일 때 근 1개\n",
    "\n",
    "else:\n",
    "    print(\"실수 해가 존재하지 않습니다\")#판별식이 0보다 작을 때 근이 존재하지 않음\n",
    "print(\"=====================================\")\n"
   ]
  },
  {
   "cell_type": "markdown",
   "id": "222075e0",
   "metadata": {},
   "source": []
  }
 ],
 "metadata": {
  "kernelspec": {
   "display_name": "Python 3 (ipykernel)",
   "language": "python",
   "name": "python3"
  },
  "language_info": {
   "codemirror_mode": {
    "name": "ipython",
    "version": 3
   },
   "file_extension": ".py",
   "mimetype": "text/x-python",
   "name": "python",
   "nbconvert_exporter": "python",
   "pygments_lexer": "ipython3",
   "version": "3.9.7"
  }
 },
 "nbformat": 4,
 "nbformat_minor": 5
}
