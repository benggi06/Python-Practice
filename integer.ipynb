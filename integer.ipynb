{
 "cells": [
  {
   "cell_type": "code",
   "execution_count": 22,
   "id": "9cb7abf9",
   "metadata": {},
   "outputs": [
    {
     "name": "stdout",
     "output_type": "stream",
     "text": [
      "N을 입력하세요.: 7\n",
      "X를 입력하세요.: 9\n",
      "숫자들을 입력하세요.: 1,2,3,4,5,6,19\n",
      "1 2 3 4 5 6 "
     ]
    }
   ],
   "source": [
    "n = int(input('N을 입력하세요.: '))\n",
    "x = int(input('X를 입력하세요.: '))\n",
    "\n",
    "a = list(input('숫자들을 입력하세요.: ').split(','))\n",
    "\n",
    "if (len(a) == n):\n",
    "    for i in range(0,n-1):\n",
    "        y = int(a[i])\n",
    "\n",
    "\n",
    "        if (x >= y):\n",
    "            print(y,end=' ')\n",
    "else:\n",
    "    print('n의 개수만큼 인덱스를 입력하세요.')\n",
    "    \n"
   ]
  },
  {
   "cell_type": "code",
   "execution_count": null,
   "id": "ca4d3e03",
   "metadata": {},
   "outputs": [],
   "source": []
  }
 ],
 "metadata": {
  "kernelspec": {
   "display_name": "Python 3 (ipykernel)",
   "language": "python",
   "name": "python3"
  },
  "language_info": {
   "codemirror_mode": {
    "name": "ipython",
    "version": 3
   },
   "file_extension": ".py",
   "mimetype": "text/x-python",
   "name": "python",
   "nbconvert_exporter": "python",
   "pygments_lexer": "ipython3",
   "version": "3.9.7"
  }
 },
 "nbformat": 4,
 "nbformat_minor": 5
}
