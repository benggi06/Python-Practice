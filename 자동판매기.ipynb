{
 "cells": [
  {
   "cell_type": "markdown",
   "id": "d3fa4417",
   "metadata": {},
   "source": [
    "# Header: \n",
    "\n",
    "제목: 자동판매기\n",
    "제출일: 20220324\n",
    "학번: 20220518\n",
    "이름: 방기웅\n",
    "\n",
    "\n"
   ]
  },
  {
   "cell_type": "code",
   "execution_count": 27,
   "id": "17c1a2ac",
   "metadata": {},
   "outputs": [
    {
     "name": "stdout",
     "output_type": "stream",
     "text": [
      "[자동판매기 프로그램]\n",
      "=====================\n",
      "입력할 1000원짜리 지폐 개수 : 3\n",
      "입력할  500원짜리 동전 개수 : 4\n",
      "입력할  100원짜리 동전 개수 : 5\n",
      "구입할 물건 값 입력: 3111\n",
      "=====================\n",
      "물건을 받으세요.거스름돈은 다음과 같습니다.\n",
      "1000원:2개, 500원:0개, 100원:3개, 10원:8개, 1원:9개\n"
     ]
    }
   ],
   "source": [
    "print('''[자동판매기 프로그램]\n",
    "=====================''')\n",
    "\n",
    "#지폐입력\n",
    "tm= int(input('입력할 1000원짜리 지폐 개수 : '))\n",
    "fhm = int(input('입력할  500원짜리 동전 개수 : ')) \n",
    "hm = int(input('입력할  100원짜리 동전 개수 : '))\n",
    "pm = int(input('구입할 물건 값 입력: '))\n",
    "lm=((tm*1000+fhm*500+hm*100)-pm)#거스름돈의 총합\n",
    "#거스름돈 분류\n",
    "l_tm=lm//1000\n",
    "lm=lm-l_tm*1000\n",
    "l_fhm=lm//500\n",
    "lm=lm-l_fhm*500\n",
    "l_hm=lm//100\n",
    "lm=lm-l_hm*100\n",
    "ten_m=lm//10\n",
    "lm=lm-ten_m*10\n",
    "\n",
    "print('=====================')\n",
    "\n",
    "\n",
    "\n",
    "\n",
    "print('''물건을 받으세요.거스름돈은 다음과 같습니다.\n",
    "1000원:{0}개, 500원:{1}개, 100원:{2}개, 10원:{3}개, 1원:{4}개'''.format(l_tm,l_fhm,l_hm,ten_m,lm))\n"
   ]
  },
  {
   "cell_type": "markdown",
   "id": "f50fefe7",
   "metadata": {},
   "source": [
    "# Footer \n",
    "구현이 안된부분: 없음\n",
    "어려웠던 부분: 몫을 사용하는 부분에서 어려움을 느낌\n",
    "질문: 없음"
   ]
  }
 ],
 "metadata": {
  "kernelspec": {
   "display_name": "Python 3 (ipykernel)",
   "language": "python",
   "name": "python3"
  },
  "language_info": {
   "codemirror_mode": {
    "name": "ipython",
    "version": 3
   },
   "file_extension": ".py",
   "mimetype": "text/x-python",
   "name": "python",
   "nbconvert_exporter": "python",
   "pygments_lexer": "ipython3",
   "version": "3.9.7"
  }
 },
 "nbformat": 4,
 "nbformat_minor": 5
}
