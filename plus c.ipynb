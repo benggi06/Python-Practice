{
 "cells": [
  {
   "cell_type": "code",
   "execution_count": 57,
   "id": "2d10c6e3",
   "metadata": {},
   "outputs": [
    {
     "name": "stdout",
     "output_type": "stream",
     "text": [
      "숫자를 입력하세요.: 1\n",
      "60\n"
     ]
    }
   ],
   "source": [
    "x = int(input('숫자를 입력하세요.: '))\n",
    "y=0 \n",
    "z=x\n",
    "\n",
    "while True:\n",
    "    y+=1\n",
    "    remain = x%10\n",
    "    share = ((x-remain)/10)\n",
    "    share = int(share)\n",
    "    sum = remain+share\n",
    "    sum1 = sum%10\n",
    "    x = remain*10 + sum1\n",
    "    \n",
    "    if x == z:\n",
    "        \n",
    "        break\n",
    "print(y)\n",
    "    \n",
    "    \n",
    "    \n",
    "    \n",
    "\n",
    "    \n",
    "    \n",
    "    \n",
    "        \n",
    "    \n",
    "        \n",
    "    \n",
    "    \n",
    "        \n",
    "    "
   ]
  },
  {
   "cell_type": "code",
   "execution_count": null,
   "id": "e9802903",
   "metadata": {},
   "outputs": [],
   "source": []
  }
 ],
 "metadata": {
  "kernelspec": {
   "display_name": "Python 3 (ipykernel)",
   "language": "python",
   "name": "python3"
  },
  "language_info": {
   "codemirror_mode": {
    "name": "ipython",
    "version": 3
   },
   "file_extension": ".py",
   "mimetype": "text/x-python",
   "name": "python",
   "nbconvert_exporter": "python",
   "pygments_lexer": "ipython3",
   "version": "3.9.7"
  }
 },
 "nbformat": 4,
 "nbformat_minor": 5
}
